{
 "cells": [
  {
   "cell_type": "markdown",
   "metadata": {},
   "source": [
    "# Prediction of the onset of thermoacoustic instabilities using Supervised machine learning\n",
    "In this notebook we demonstrate how Automatic Machine LEarning (AutoML) can be used to train a machine learning algorithm to detect the onset of thermoacoustic instabilities."
   ]
  },
  {
   "cell_type": "code",
   "execution_count": 71,
   "metadata": {},
   "outputs": [],
   "source": [
    "import numpy as np\n",
    "import pandas as pd\n",
    "import nolds\n",
    "import matplotlib.pyplot as plt\n",
    "import matplotlib.patches as mpatches\n",
    "from sklearn.model_selection import train_test_split\n",
    "from joblib import Parallel, delayed\n",
    "import numpy.polynomial.polynomial as poly\n",
    "import h2o\n",
    "from h2o.automl import H2OAutoML\n",
    "from sklearn.preprocessing import StandardScaler"
   ]
  },
  {
   "cell_type": "code",
   "execution_count": 50,
   "metadata": {},
   "outputs": [],
   "source": [
    "def insert_periodic(noise, time, period_length, period_starts, period_amp, damp_amp, period_freq=1000, hanning=True):\n",
    "    addition = np.zeros(len(noise))\n",
    "    damping = np.ones(len(noise))\n",
    "    # for each periodic section damp the noise amplitude and \n",
    "    for start in period_starts:\n",
    "        \n",
    "        if hanning:\n",
    "            damping[start:start+period_length] = 1-damp_amp*np.hanning(period_length)\n",
    "            addition[start:start+period_length] = period_amp*np.hanning(period_length)*0.5*np.sin(period_freq*2*3.14159*time[start:start+period_length])\n",
    "        else:\n",
    "            damping[start:start+period_length] = 1-damp_amp\n",
    "            addition[start:start+period_length] = period_amp*0.5*np.sin(period_freq*2*3.14159*time[start:start+period_length])\n",
    "    return noise*damping + addition\n",
    "\n",
    "def gen_intermittent(noise, t, sin_amp, damp_amp):\n",
    "    '''Function to generate a synthetic time series showing intermittent bursts of periodic behaviour.'''\n",
    "\n",
    "    signal = np.concatenate([noise[:10000],\n",
    "                           insert_periodic(noise[10000:20000], t[10000:20000], 100, [0], sin_amp, damp_amp),\n",
    "                           insert_periodic(noise[20000:30000], t[20000:30000], 100, [1000,4000, 7000], sin_amp, damp_amp),\n",
    "                           insert_periodic(noise[30000:40000], t[30000:40000], 100, [1000, 2000, 4000, 5000, 8000], sin_amp, damp_amp),\n",
    "                           insert_periodic(noise[40000:50000], t[40000:50000], 100, [50, 1000, 2000, 3000, 4000, 5000, 6000, 7000, 8000, 9000], sin_amp, damp_amp),\n",
    "                           insert_periodic(noise[50000:60000], t[50000:60000], 250, [0], sin_amp, damp_amp),\n",
    "                           insert_periodic(noise[60000:70000], t[60000:70000], 250, [1000,4000, 7000], sin_amp, damp_amp),\n",
    "                           insert_periodic(noise[70000:80000], t[70000:80000], 250, [1000, 2000, 4000, 5000, 8000], sin_amp, damp_amp),\n",
    "                           insert_periodic(noise[80000:90000], t[80000:90000], 250, [50, 1000, 2000, 3000, 4000, 5000, 6000, 7000, 8000, 9000], sin_amp, damp_amp),\n",
    "                           insert_periodic(noise[90000:100000],t[90000:100000], 500, [0], sin_amp, damp_amp),\n",
    "                           insert_periodic(noise[100000:110000], t[100000:110000], 500, [1000,4000, 7000], sin_amp, damp_amp),\n",
    "                           insert_periodic(noise[110000:120000], t[110000:120000], 500, [1000, 2000, 4000, 5000, 8000], sin_amp, damp_amp),\n",
    "                           insert_periodic(noise[120000:130000], t[120000:130000], 500, [50, 1000, 2000, 3000, 4000, 5000, 6000, 7000, 8000, 9000], sin_amp, damp_amp),\n",
    "                           insert_periodic(noise[130000:140000], t[130000:140000], 1000, [0], sin_amp, damp_amp),\n",
    "                           insert_periodic(noise[140000:150000], t[140000:150000], 1000, [1000,4000, 7000], sin_amp, damp_amp),\n",
    "                           insert_periodic(noise[150000:160000], t[150000:160000], 1000, [1000, 2000, 4000, 5000, 8000], sin_amp, damp_amp),\n",
    "                           insert_periodic(noise[160000:170000], t[160000:170000], 1000, [50, 1000, 2000, 3000, 4000, 5000, 6000, 7000, 8000, 9000], sin_amp, damp_amp),\n",
    "                           insert_periodic(noise[170000:190000], t[170000:190000], 2000, [0], sin_amp, damp_amp),\n",
    "                           insert_periodic(noise[190000:220000], t[190000:220000], 2000, [0, 10000, 15000], sin_amp, damp_amp),\n",
    "                           insert_periodic(noise[220000:230000], t[220000:230000], 2000, [0, 1000, 4000, 6000, 8000], sin_amp, damp_amp),\n",
    "                           insert_periodic(noise[230000:250000], t[230000:250000], 2000, [0, 2000, 4000, 6000, 8000, 10000, 12000, 14000, 16000, 18000], sin_amp, damp_amp),\n",
    "                           insert_periodic(noise[250000:300000], t[250000:300000], 50000, [0], 10, damp_amp, hanning=False),\n",
    "                          ])\n",
    "    return signal\n",
    "def DFA_transform(signal, time_sig=None, time_window=4000, stepsize=100,\n",
    "                  rolling=True, scale_range=(1, 2.7), scales=30,\n",
    "                  detrend_order=2, n_jobs=1, **kwargs):\n",
    "    '''Transforms the input signal into DFA space.\n",
    "\n",
    "    Parameters\n",
    "    ----------\n",
    "\n",
    "    signal : np.array\n",
    "        A 1D numpy array containing the time series on which to calculate the\n",
    "        Hurst exponent\n",
    "\n",
    "    scale_range : tuple, optional\n",
    "        The range of scales over which to calculate the hurst exponent for each\n",
    "        time window, given in powers of 10 of the number of data points. The\n",
    "        scales used are linearly distributed over a log scale in this range.\n",
    "        Unless a moving Hurst window is used, the scales should be selected to\n",
    "        ensure scale invariance across all scales. The lower bound of the range\n",
    "        should be at least 1 to ensure at least 10 data points are used in\n",
    "        the smallest scale.\n",
    "\n",
    "    scales : int, optional\n",
    "        The number of scales to use in the calculation of the Hurst exponent.\n",
    "        When method 'DFA' is used, the processing time is proportional to\n",
    "        scales.\n",
    "\n",
    "    time_window : int, optional\n",
    "        The number of data points over which to carry oout the DFA\n",
    "        i.e. the time window.\n",
    "\n",
    "    rolling : bool, optional\n",
    "        Indicator for whether to use a rolling or non-overlapping time window.\n",
    "\n",
    "    stepsize : int, optional\n",
    "        The number of data points between the start of each time window when\n",
    "        using a rolling window. Ignored if rolling is False.\n",
    "\n",
    "    Returns\n",
    "    ----------\n",
    "\n",
    "    Fs : numpy.array, shape(# time windows, scales)\n",
    "        The values of Fw from which the Hurst exponent is calculated for each\n",
    "        time window. Plot log(Fw) vs. log(scales) to check if signal is scale\n",
    "        invariant.\n",
    "\n",
    "    ws : The number of samples used in the calculation of each Fs value.\n",
    "    '''\n",
    "\n",
    "    # Turn the time series containing the fluctuating component of the Pressure\n",
    "    # into a random walk\n",
    "    walk = np.cumsum(signal - np.mean(signal))\n",
    "\n",
    "    new_walk = slice_signal(walk, time_window, stepsize, rolling)\n",
    "    K = new_walk.shape[0]\n",
    "\n",
    "    # create the list of scales\n",
    "    ws = np.logspace(scale_range[0], scale_range[1],\n",
    "                     scales, base=10, dtype=np.int32)\n",
    "\n",
    "    # Initialise Fs\n",
    "    Fs = np.zeros([len(ws), K])\n",
    "\n",
    "    # set the order of the detrending\n",
    "    m = detrend_order\n",
    "\n",
    "    def calc_dists(scale, i, new_walk, K, time_window, len_ws, m):\n",
    "        # Initialise Fs\n",
    "        Fs = np.zeros([len(ws), K])\n",
    "\n",
    "        # pad timeseries and reshape so that the third dimension conatains a\n",
    "        # non-overlapping wondow of the timeseries with size scale\n",
    "        nw = np.floor_divide(time_window, scale)\n",
    "        assert (nw > 0)\n",
    "        x = new_walk[:, :int(nw * scale)].reshape(K, nw, scale)\n",
    "\n",
    "\n",
    "        # Detrend the data by removing the mean or a polynomial fit fom each window\n",
    "        fits = poly.polyfit(range(scale), x.reshape(-1, scale).transpose(), deg=m)\n",
    "        trends = poly.polyval(list(range(scale)), fits)\n",
    "        assert (trends.shape == (K * x.shape[1], scale))\n",
    "        detrended = x.reshape(-1, scale) - trends\n",
    "        detrended = detrended.reshape((K, -1, scale))\n",
    "\n",
    "        # Find the RMS of all the detrended windows\n",
    "        RMS = np.sqrt(np.mean(detrended ** 2, axis=-1))\n",
    "        assert (RMS.shape == (K, x.shape[1]))\n",
    "\n",
    "        # Find the rms across the detrended windows for each timestep and save\n",
    "        Fs[i, :] = np.sqrt(np.mean(RMS ** 2, axis=-1))\n",
    "        #assert(Fs.size == np.count_nonzero(Fs))\n",
    "        return Fs\n",
    "\n",
    "    # for each scale\n",
    "    result = Parallel(n_jobs=n_jobs)(delayed(calc_dists)(scale, i, new_walk, K,\n",
    "                                                         time_window, len(ws),\n",
    "                                                         m) for i, scale in enumerate(ws))\n",
    "    Fs = result[0]\n",
    "    for res in result[1:]:\n",
    "        Fs = Fs + res\n",
    "\n",
    "    assert(Fs.size == np.count_nonzero(Fs))\n",
    "\n",
    "    # if rolling windows are used then shift the signal so that when matched up\n",
    "    # with the time from theoriginal signal, the time points refer to the time\n",
    "    # at the end of the time window for each element in H\n",
    "    if rolling:\n",
    "        shift_Fs = shift(Fs, time_window//stepsize, axis=1, cval=np.nan)\n",
    "        # dowmsample the time signal to the same stepsize\n",
    "        time_sig = time_sig[:max(int(K*stepsize), len(time_sig)):stepsize]\n",
    "        return np.log10(shift_Fs), np.log10(ws), time_sig\n",
    "    else:\n",
    "        time_sig = time_sig[:max(int(K*stepsize), len(time_sig)):stepsize]\n",
    "        return np.log10(Fs), np.log10(ws), time_sig\n",
    "def slice_signal(walk, time_window=4000, stepsize=100, rolling=True):\n",
    "    # Split the timeseries into a 2d vector of time windows each of which\n",
    "    # will have the Hurst exponent evaluated\n",
    "    walk = np.array(walk).reshape(-1,)\n",
    "    if rolling:\n",
    "        # Pad the timeseries and then create a new array where each row is a\n",
    "        # step of a rolling window across the signal\n",
    "        padded_walk = np.pad(walk, (0, time_window), 'constant')\n",
    "        new_walk = np.zeros((np.floor_divide(walk.shape[0], stepsize),\n",
    "                                             time_window))\n",
    "\n",
    "        try:\n",
    "            for i in range(time_window):\n",
    "                new_walk[:, i] = padded_walk[i:-(time_window+1-i):stepsize]\n",
    "        except:\n",
    "            for i in range(time_window):\n",
    "                new_walk[:, i] = padded_walk[i:-(time_window+1-i):stepsize][:-1]\n",
    "        K = new_walk.shape[0]\n",
    "\n",
    "    else:\n",
    "        K = np.floor_divide(walk.shape[0], time_window)\n",
    "        new_walk = walk[:int(K*time_window)].reshape(K, time_window)\n",
    "        assert(new_walk.shape == (K, time_window))\n",
    "\n",
    "    return new_walk\n",
    "def shift(array, sft_steps, axis=0, cval=np.nan):\n",
    "    '''Function that shift a 1D or 2D array along a single axis.\n",
    "\n",
    "    Parameters\n",
    "    ----------\n",
    "\n",
    "    array : np.array\n",
    "        A 1D or 2D numpy array containing the array to be shifted.\n",
    "\n",
    "    sft_steps : int\n",
    "        The number of steps to shift the array by. Negative values shift the\n",
    "        array backwards.\n",
    "\n",
    "    axis : int, optional\n",
    "        The axis along which to shift the array. Default is zero.\n",
    "\n",
    "    cval : scalar, optional\n",
    "        The value to insert where data is shifted from. Default is np.nan.\n",
    "\n",
    "    Returns\n",
    "    ----------\n",
    "\n",
    "    new_array : numpy.array, shape(array.shape)\n",
    "        The shifted array.\n",
    "    '''\n",
    "\n",
    "    # Initialise a new array with value cval\n",
    "    new_array = np.full(array.shape, cval)\n",
    "\n",
    "    # Copy a slice of the array to correspond to a shifted array.\n",
    "    if array.ndim == 1:\n",
    "        if sft_steps > 0:\n",
    "            new_array[sft_steps:] = array[:-sft_steps]\n",
    "        else:\n",
    "            new_array[:sft_steps] = array[-sft_steps:]\n",
    "    elif array.ndim == 2:\n",
    "        if axis == 0:\n",
    "            if sft_steps > 0:\n",
    "                new_array[sft_steps:, :] = array[:-sft_steps, :]\n",
    "            else:\n",
    "                new_array[:sft_steps, :] = array[-sft_steps:, :]\n",
    "        elif axis == 1:\n",
    "            if sft_steps > 0:\n",
    "                new_array[:, sft_steps:] = array[:, :-sft_steps]\n",
    "            else:\n",
    "                new_array[:, :sft_steps] = array[:, -sft_steps:]\n",
    "    return new_array"
   ]
  },
  {
   "cell_type": "markdown",
   "metadata": {},
   "source": [
    "The following code creates a pressure signal that shows an increasing amount of intermitten behavour before going unstable"
   ]
  },
  {
   "cell_type": "code",
   "execution_count": 4,
   "metadata": {},
   "outputs": [
    {
     "data": {
      "image/png": "[encoded data removed]",
      "text/plain": [
       "<Figure size 432x288 with 1 Axes>"
      ]
     },
     "metadata": {
      "needs_background": "light"
     },
     "output_type": "display_data"
    }
   ],
   "source": [
    "noise = 2*np.random.rand(300000)-1\n",
    "t = np.linspace(0,300000/25000,300000)\n",
    "sin_amp = 0.7\n",
    "damp_amp = 0.7\n",
    "interm_sig = gen_intermittent(noise, t, sin_amp, damp_amp)\n",
    "plt.figure()\n",
    "plt.plot(t, interm_sig)\n",
    "plt.ylabel('Pressure [psi]')\n",
    "plt.xlabel(\"Time [s]\")\n",
    "plt.show()"
   ]
  },
  {
   "cell_type": "markdown",
   "metadata": {},
   "source": [
    "We split the signal into overlapping time windows that can be passed to the ML algorithm for classification. This turs our 1D signal into a 2D matrix."
   ]
  },
  {
   "cell_type": "code",
   "execution_count": 28,
   "metadata": {},
   "outputs": [],
   "source": [
    "window_length = 4000\n",
    "stepsize = 100\n",
    "padded_sig = np.pad(interm_sig.reshape(-1), (0, window_length), 'constant')\n",
    "rolling_sig = np.zeros((np.floor_divide(interm_sig.shape[0], stepsize),\n",
    "                                             window_length))\n",
    "for i in range(window_length-1):\n",
    "    rolling_sig[:, i] = padded_sig[i:-(window_length+1-i):stepsize]"
   ]
  },
  {
   "cell_type": "markdown",
   "metadata": {},
   "source": [
    "We create three labels for the data using the peak-to-peak (p2p) pressure ofthe signal: 'noise', 'transition' and 'limit cycle'. The 'limit cycle' calss is defined as anything over 4 psi p2p, the 'transition' class as 2s of data before that and everything else is labelled as 'stable'."
   ]
  },
  {
   "cell_type": "code",
   "execution_count": 42,
   "metadata": {},
   "outputs": [
    {
     "data": {
      "image/png": "[encoded data removed]",
      "text/plain": [
       "<Figure size 432x288 with 1 Axes>"
      ]
     },
     "metadata": {
      "needs_background": "light"
     },
     "output_type": "display_data"
    }
   ],
   "source": [
    "y_labels = np.zeros(rolling_sig.shape[0])\n",
    "p2ps = rolling_sig.max(axis=1)-rolling_sig.min(axis=1)\n",
    "y_labels[p2ps>4] = 2\n",
    "start_insta = np.argmax(y_labels)\n",
    "dt = np.median(np.diff(t))\n",
    "start_trans = int(start_insta - 2/(stepsize*dt))\n",
    "y_labels[start_trans:start_insta] = 1\n",
    "plt.figure()\n",
    "plt.plot(p2ps, label='P2P Pressure')\n",
    "#plt.plot(y_labels)\n",
    "plt.plot([0,3000],[4, 4],'r--', label='LC threshold')\n",
    "handles2, labels2 = plt.gca().get_legend_handles_labels()\n",
    "texts = ['Transition', 'Limit Cycle']\n",
    "colors = ['C1', 'red']\n",
    "patches = [ mpatches.Patch(color=colors[i], label=\"{:s}\".format(texts[i]), alpha=0.5 ) for i in range(len(texts)) ]\n",
    "plt.legend(handles= handles2 + patches, loc='center left', bbox_to_anchor=(0, 0.5))\n",
    "plt.axvspan(start_insta, 3000, color='red', alpha=0.5)\n",
    "plt.axvspan(start_trans, start_insta, color='C1', alpha=0.5)\n",
    "plt.xlabel('Sample #')\n",
    "plt.ylabel('Pressure [psi]')\n",
    "plt.show()"
   ]
  },
  {
   "cell_type": "markdown",
   "metadata": {},
   "source": [
    "Carry out DFA on the signal"
   ]
  },
  {
   "cell_type": "code",
   "execution_count": 64,
   "metadata": {},
   "outputs": [
    {
     "data": {
      "image/png": "[encoded data removed]",
      "text/plain": [
       "<Figure size 432x288 with 1 Axes>"
      ]
     },
     "metadata": {
      "needs_background": "light"
     },
     "output_type": "display_data"
    }
   ],
   "source": [
    "DFA_sig, ws, time_sig = DFA_transform(interm_sig, t)\n",
    "DFA_sig = DFA_sig.T\n",
    "plt.figure()\n",
    "plt.plot(DFA_sig[500, :], label = 'noise')\n",
    "plt.plot(DFA_sig[2450, :], label = 'transition')\n",
    "plt.plot(DFA_sig[2900, :], label = 'limit cylce')\n",
    "plt.show()"
   ]
  },
  {
   "cell_type": "markdown",
   "metadata": {},
   "source": [
    "Create training and testing data sets"
   ]
  },
  {
   "cell_type": "code",
   "execution_count": 87,
   "metadata": {},
   "outputs": [],
   "source": [
    "X_train, X_test, y_train, y_test = train_test_split(DFA_sig, y_labels, test_size=0.33, random_state=42, shuffle=False)"
   ]
  },
  {
   "cell_type": "code",
   "execution_count": 88,
   "metadata": {},
   "outputs": [
    {
     "name": "stdout",
     "output_type": "stream",
     "text": [
      "Checking whether there is an H2O instance running at http://localhost:54321 . connected.\n",
      "Warning: Your H2O cluster version is too old (7 months and 19 days)! Please download and install the latest version from http://h2o.ai/download/\n"
     ]
    },
    {
     "data": {
      "text/html": [
       "<div style=\"overflow:auto\"><table style=\"width:50%\"><tr><td>H2O cluster uptime:</td>\n",
       "<td>8 mins 56 secs</td></tr>\n",
       "<tr><td>H2O cluster timezone:</td>\n",
       "<td>Europe/Berlin</td></tr>\n",
       "<tr><td>H2O data parsing timezone:</td>\n",
       "<td>UTC</td></tr>\n",
       "<tr><td>H2O cluster version:</td>\n",
       "<td>3.28.0.3</td></tr>\n",
       "<tr><td>H2O cluster version age:</td>\n",
       "<td>7 months and 19 days !!!</td></tr>\n",
       "<tr><td>H2O cluster name:</td>\n",
       "<td>H2O_from_python_212687364_e8s6gp</td></tr>\n",
       "<tr><td>H2O cluster total nodes:</td>\n",
       "<td>1</td></tr>\n",
       "<tr><td>H2O cluster free memory:</td>\n",
       "<td>1.734 Gb</td></tr>\n",
       "<tr><td>H2O cluster total cores:</td>\n",
       "<td>8</td></tr>\n",
       "<tr><td>H2O cluster allowed cores:</td>\n",
       "<td>8</td></tr>\n",
       "<tr><td>H2O cluster status:</td>\n",
       "<td>locked, healthy</td></tr>\n",
       "<tr><td>H2O connection url:</td>\n",
       "<td>http://localhost:54321</td></tr>\n",
       "<tr><td>H2O connection proxy:</td>\n",
       "<td>{'http': None, 'https': None, 'no': 'vdi.etc.ge.com'}</td></tr>\n",
       "<tr><td>H2O internal security:</td>\n",
       "<td>False</td></tr>\n",
       "<tr><td>H2O API Extensions:</td>\n",
       "<td>Amazon S3, Algos, AutoML, Core V3, TargetEncoder, Core V4</td></tr>\n",
       "<tr><td>Python version:</td>\n",
       "<td>3.6.8 final</td></tr></table></div>"
      ],
      "text/plain": [
       "--------------------------  ---------------------------------------------------------\n",
       "H2O cluster uptime:         8 mins 56 secs\n",
       "H2O cluster timezone:       Europe/Berlin\n",
       "H2O data parsing timezone:  UTC\n",
       "H2O cluster version:        3.28.0.3\n",
       "H2O cluster version age:    7 months and 19 days !!!\n",
       "H2O cluster name:           H2O_from_python_212687364_e8s6gp\n",
       "H2O cluster total nodes:    1\n",
       "H2O cluster free memory:    1.734 Gb\n",
       "H2O cluster total cores:    8\n",
       "H2O cluster allowed cores:  8\n",
       "H2O cluster status:         locked, healthy\n",
       "H2O connection url:         http://localhost:54321\n",
       "H2O connection proxy:       {'http': None, 'https': None, 'no': 'vdi.etc.ge.com'}\n",
       "H2O internal security:      False\n",
       "H2O API Extensions:         Amazon S3, Algos, AutoML, Core V3, TargetEncoder, Core V4\n",
       "Python version:             3.6.8 final\n",
       "--------------------------  ---------------------------------------------------------"
      ]
     },
     "metadata": {},
     "output_type": "display_data"
    },
    {
     "name": "stdout",
     "output_type": "stream",
     "text": [
      "Parse progress: |█████████████████████████████████████████████████████████| 100%\n",
      "Parse progress: |█████████████████████████████████████████████████████████| 100%\n",
      "AutoML progress: |\n",
      "15:01:04.639: User specified a validation frame with cross-validation still enabled. Please note that the models will still be validated using cross-validation only, the validation frame will be used to provide purely informative validation metrics on the trained models.\n",
      "15:01:04.642: AutoML: XGBoost is not available; skipping it.\n",
      "\n",
      "████████████████████████████████████████████████████████| 100%\n"
     ]
    },
    {
     "data": {
      "text/html": [
       "<table>\n",
       "<thead>\n",
       "<tr><th>model_id                    </th><th style=\"text-align: right;\">     auc</th><th style=\"text-align: right;\">  logloss</th><th style=\"text-align: right;\">   aucpr</th><th style=\"text-align: right;\">  mean_per_class_error</th><th style=\"text-align: right;\">     rmse</th><th style=\"text-align: right;\">     mse</th></tr>\n",
       "</thead>\n",
       "<tbody>\n",
       "<tr><td>GLM_1_AutoML_20200925_150104</td><td style=\"text-align: right;\">0.983349</td><td style=\"text-align: right;\">0.0342387</td><td style=\"text-align: right;\">0.800618</td><td style=\"text-align: right;\">              0.133928</td><td style=\"text-align: right;\">0.0902109</td><td style=\"text-align: right;\">0.008138</td></tr>\n",
       "</tbody>\n",
       "</table>"
      ]
     },
     "metadata": {},
     "output_type": "display_data"
    },
    {
     "data": {
      "text/plain": []
     },
     "execution_count": 88,
     "metadata": {},
     "output_type": "execute_result"
    }
   ],
   "source": [
    "h2o.init()\n",
    "scaler = StandardScaler()\n",
    "X_train = scaler.fit_transform(X_train)\n",
    "X_test = scaler.transform(X_test)#[np.max(np.isnan(X_test), axis=1), :])\n",
    "train_df = pd.DataFrame(X_train, columns=[\"DFA_{:.2f}\".format(w) for w in ws])\n",
    "train_df['label'] = y_train\n",
    "test_df = pd.DataFrame(X_test, columns=[\"DFA_{:.2f}\".format(w) for w in ws])\n",
    "test_df['label'] = y_test\n",
    "train = h2o.H2OFrame(train_df)\n",
    "train['label'] = train['label'].asfactor()\n",
    "test = h2o.H2OFrame(test_df)\n",
    "test['label'] = test['label'].asfactor()\n",
    "aml = H2OAutoML(max_models=1, seed=1, max_runtime_secs=300)\n",
    "aml.train(x=[\"DFA_{:.2f}\".format(w) for w in ws], y='label', training_frame=train, validation_frame=test)\n",
    "model_ids = list(aml.leaderboard.as_data_frame()['model_id'].values)\n",
    "aml.leaderboard.head()"
   ]
  },
  {
   "cell_type": "code",
   "execution_count": 97,
   "metadata": {},
   "outputs": [
    {
     "name": "stdout",
     "output_type": "stream",
     "text": [
      "Parse progress: |█████████████████████████████████████████████████████████| 100%\n",
      "glm prediction progress: |████████████████████████████████████████████████| 100%\n"
     ]
    }
   ],
   "source": [
    "temp_model = h2o.get_model(model_ids[0])\n",
    "test_df = pd.DataFrame(DFA_sig, columns=[\"DFA_{:.2f}\".format(w) for w in ws])\n",
    "preds = temp_model.predict(h2o.H2OFrame(test_df)).as_data_frame().values"
   ]
  },
  {
   "cell_type": "code",
   "execution_count": 99,
   "metadata": {},
   "outputs": [
    {
     "data": {
      "text/plain": [
       "[<matplotlib.lines.Line2D at 0x22730051da0>]"
      ]
     },
     "execution_count": 99,
     "metadata": {},
     "output_type": "execute_result"
    },
    {
     "data": {
      "image/png": "[encoded data removed]",
      "text/plain": [
       "<Figure size 432x288 with 1 Axes>"
      ]
     },
     "metadata": {
      "needs_background": "light"
     },
     "output_type": "display_data"
    }
   ],
   "source": [
    "plt.figure()\n",
    "plt.plot(np.argmax(preds, axis=1))\n",
    "plt.plot(y_labels)\n",
    "plt.show()"
   ]
  }
 ],
 "metadata": {
  "kernelspec": {
   "display_name": "LEAP",
   "language": "python",
   "name": "leap"
  },
  "language_info": {
   "codemirror_mode": {
    "name": "ipython",
    "version": 3
   },
   "file_extension": ".py",
   "mimetype": "text/x-python",
   "name": "python",
   "nbconvert_exporter": "python",
   "pygments_lexer": "ipython3",
   "version": "3.6.8"
  }
 },
 "nbformat": 4,
 "nbformat_minor": 4
}
